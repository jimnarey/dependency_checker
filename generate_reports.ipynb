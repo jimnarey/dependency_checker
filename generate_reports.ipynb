{
 "cells": [
  {
   "cell_type": "code",
   "execution_count": null,
   "metadata": {},
   "outputs": [],
   "source": [
    "import os\n",
    "import subprocess\n",
    "\n",
    "def main():\n",
    "    rootdir = './repos_test_script/'\n",
    "    \n",
    "   \n",
    "    for root, subdir, files in os.walk(rootdir):\n",
    "\n",
    "        print(f'root: {root}')\n",
    "        print(f'subdirs: {subdir}')\n",
    "        print(f'files: {files}')\n",
    "\n",
    "        # execute commands if a package.json file is found. Skip if node_modules already exists\n",
    "\n",
    "        if 'package.json' in files and 'node_modules' not in files:\n",
    "            print(f'Found a package.json file at directory: {root}. Npm installing and creating report...')\n",
    "            subprocess.run(\"npm install\",shell=True, cwd=root)\n",
    "            subprocess.run(\"dependency-check --enableExperimental --scan .\", shell =True, cwd=root)\n",
    "\n",
    "if __name__ == '__main__':\n",
    "    main()\n"
   ]
  }
 ],
 "metadata": {
  "kernelspec": {
   "display_name": "dependency_checker",
   "language": "python",
   "name": "python3"
  },
  "language_info": {
   "codemirror_mode": {
    "name": "ipython",
    "version": 3
   },
   "file_extension": ".py",
   "mimetype": "text/x-python",
   "name": "python",
   "nbconvert_exporter": "python",
   "pygments_lexer": "ipython3",
   "version": "3.10.9"
  },
  "orig_nbformat": 4,
  "vscode": {
   "interpreter": {
    "hash": "6bb2c615e6571d5756fb47ecc774e74876f593876d64f7be0c48842ff5d06f09"
   }
  }
 },
 "nbformat": 4,
 "nbformat_minor": 2
}
