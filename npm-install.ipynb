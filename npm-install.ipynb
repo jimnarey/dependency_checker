{
 "cells": [
  {
   "cell_type": "code",
   "execution_count": 34,
   "metadata": {},
   "outputs": [
    {
     "name": "stdout",
     "output_type": "stream",
     "text": [
      "\n",
      "added 353 packages, and audited 354 packages in 8s\n",
      "\n",
      "43 packages are looking for funding\n",
      "  run `npm fund` for details\n",
      "\n",
      "found 0 vulnerabilities\n"
     ]
    }
   ],
   "source": [
    "import os\n",
    "import subprocess\n",
    "\n",
    "\n",
    "def main():\n",
    "    \n",
    "    cwd = os.getcwd()\n",
    "    os.chdir('repos/SR-Poetry-Website')\n",
    "\n",
    "    subprocess.Popen('npm install', shell=True)\n",
    "\n",
    "    os.chdir(cwd)\n",
    "\n",
    "    \n",
    "\n",
    "if __name__ == '__main__':\n",
    "    main()\n"
   ]
  }
 ],
 "metadata": {
  "kernelspec": {
   "display_name": "Python 3",
   "language": "python",
   "name": "python3"
  },
  "language_info": {
   "codemirror_mode": {
    "name": "ipython",
    "version": 3
   },
   "file_extension": ".py",
   "mimetype": "text/x-python",
   "name": "python",
   "nbconvert_exporter": "python",
   "pygments_lexer": "ipython3",
   "version": "3.10.10"
  },
  "orig_nbformat": 4,
  "vscode": {
   "interpreter": {
    "hash": "f2c36f73ac6855ede278bf275e59494db3aa5e9a94a5cdd5dff63127242892dd"
   }
  }
 },
 "nbformat": 4,
 "nbformat_minor": 2
}
