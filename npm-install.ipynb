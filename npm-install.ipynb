{
 "cells": [
  {
   "cell_type": "code",
   "execution_count": 7,
   "metadata": {},
   "outputs": [
    {
     "name": "stdout",
     "output_type": "stream",
     "text": [
      "./repos/\n",
      "./repos/web-app-prototype\n",
      "./repos/TypeScript-Academy-Again\n",
      "./repos/TypeScript-Football-Hot-Takes\n"
     ]
    }
   ],
   "source": [
    "import os\n",
    "import subprocess\n",
    "\n",
    "\n",
    "def main():\n",
    "    rootdir = './repos/'\n",
    "    cwd = os.getcwd()\n",
    "\n",
    "    #Applying NPM install to a single directory.\n",
    "\n",
    "    # os.chdir('repos/Node.js-Passport-Login-System')\n",
    "    # subprocess.Popen('npm install', shell=True)\n",
    "    # os.chdir(cwd)\n",
    "\n",
    "    \n",
    "    target_dirs = []\n",
    "    for subdir, dirs, files in os.walk(rootdir):\n",
    "        # print(dirs)\n",
    "        print(subdir)\n",
    "        if 'node_modules' not in subdir:\n",
    "            target_dirs.append(subdir)\n",
    "\n",
    "    for subdir in target_dirs:\n",
    "        subprocess.run(\"npm install\",shell=True, cwd=subdir)\n",
    "        subprocess.run(\"dependency-check --enableExperimental --scan .\", shell =True, cwd=subdir)\n",
    "\n",
    "if __name__ == '__main__':\n",
    "    main()\n",
    "    \n",
    "    # os.path.abspath(os.path.dirname(os.path.join, subdir, file))\n"
   ]
  }
 ],
 "metadata": {
  "kernelspec": {
   "display_name": "dependency_checker",
   "language": "python",
   "name": "python3"
  },
  "language_info": {
   "codemirror_mode": {
    "name": "ipython",
    "version": 3
   },
   "file_extension": ".py",
   "mimetype": "text/x-python",
   "name": "python",
   "nbconvert_exporter": "python",
   "pygments_lexer": "ipython3",
   "version": "3.10.9"
  },
  "orig_nbformat": 4,
  "vscode": {
   "interpreter": {
    "hash": "6bb2c615e6571d5756fb47ecc774e74876f593876d64f7be0c48842ff5d06f09"
   }
  }
 },
 "nbformat": 4,
 "nbformat_minor": 2
}
