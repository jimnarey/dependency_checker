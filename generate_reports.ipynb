{
 "cells": [
  {
   "cell_type": "code",
   "execution_count": 16,
   "metadata": {},
   "outputs": [
    {
     "name": "stdout",
     "output_type": "stream",
     "text": [
      "root: repos/\n",
      "subdirs: ['dependency_checker', 'alu_auto_builder', 'Aaru']\n",
      "files: []\n",
      "root: repos/dependency_checker\n",
      "subdirs: []\n",
      "files: ['requirements.txt']\n",
      "Found a requirements.txt file at directory: repos/dependency_checker. creating report...\n"
     ]
    },
    {
     "name": "stderr",
     "output_type": "stream",
     "text": [
      "sudo: a terminal is required to read the password; either use the -S option to read from standard input or configure an askpass helper\n",
      "sudo: a password is required\n"
     ]
    },
    {
     "name": "stdout",
     "output_type": "stream",
     "text": [
      "root: repos/alu_auto_builder\n",
      "subdirs: []\n",
      "files: ['requirements.txt']\n",
      "Found a requirements.txt file at directory: repos/alu_auto_builder. creating report...\n",
      "root: repos/Aaru\n",
      "subdirs: []\n",
      "files: []\n"
     ]
    },
    {
     "name": "stderr",
     "output_type": "stream",
     "text": [
      "sudo: a terminal is required to read the password; either use the -S option to read from standard input or configure an askpass helper\n",
      "sudo: a password is required\n"
     ]
    }
   ],
   "source": [
    "import os\n",
    "import subprocess\n",
    "\n",
    "def main():\n",
    "    rootdir = 'repos/'\n",
    "    \n",
    "   \n",
    "    for root, subdir, files in os.walk(rootdir):\n",
    "\n",
    "        print(f'root: {root}')\n",
    "        print(f'subdirs: {subdir}')\n",
    "        print(f'files: {files}')\n",
    "\n",
    "        # execute commands if a package.json file is found. Skip if node_modules already exists\n",
    "\n",
    "        if 'package.json' in files and 'node_modules' not in files:\n",
    "            print(f'Found a package.json file at directory: {root}. Npm installing and creating report...')\n",
    "            \n",
    "            #mac/homebrew version\n",
    "            # subprocess.run(\"npm install\",shell=True, cwd=root)\n",
    "            # subprocess.run(\"dependency-check --enableExperimental --scan .\", shell =True, cwd=root)\n",
    "            \n",
    "            #linux version (https://askubuntu.com/questions/155791/how-do-i-sudo-a-command-in-a-script-without-being-asked-for-a-password/155827#155827)\n",
    "            # subprocess.run(\"sudo home/danny/npminstall.sh\", shell=True, cwd=root)\n",
    "            # subprocess.run(\"sudo home/danny/dependency.sh\", shell =True, cwd=root)\n",
    "\n",
    "        if 'requirements.txt' in files:\n",
    "            print(f'Found a requirements.txt file at directory: {root}. creating report...')\n",
    "            \n",
    "            #mac/homebrew version\n",
    "            #subprocess.run(\"dependency-check --enableExperimental --scan .\", shell =True, cwd=root)\n",
    "\n",
    "            #linux version\n",
    "            subprocess.run(\"sudo home/danny/dependency.sh\", shell =True, cwd=root)\n",
    "\n",
    "if __name__ == '__main__':\n",
    "    main()\n"
   ]
  }
 ],
 "metadata": {
  "kernelspec": {
   "display_name": "Python 3",
   "language": "python",
   "name": "python3"
  },
  "language_info": {
   "codemirror_mode": {
    "name": "ipython",
    "version": 3
   },
   "file_extension": ".py",
   "mimetype": "text/x-python",
   "name": "python",
   "nbconvert_exporter": "python",
   "pygments_lexer": "ipython3",
   "version": "3.10.10"
  },
  "orig_nbformat": 4,
  "vscode": {
   "interpreter": {
    "hash": "f2c36f73ac6855ede278bf275e59494db3aa5e9a94a5cdd5dff63127242892dd"
   }
  }
 },
 "nbformat": 4,
 "nbformat_minor": 2
}
